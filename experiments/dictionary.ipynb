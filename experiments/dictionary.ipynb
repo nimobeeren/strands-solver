{
 "cells": [
  {
   "cell_type": "code",
   "execution_count": 1,
   "id": "7233f7ca",
   "metadata": {},
   "outputs": [],
   "source": [
    "import sys\n",
    "from pathlib import Path\n",
    "\n",
    "project_root = Path().resolve().parent\n",
    "if str(project_root) not in sys.path:\n",
    "    sys.path.insert(0, str(project_root))"
   ]
  },
  {
   "cell_type": "markdown",
   "id": "dc9ed54b",
   "metadata": {},
   "source": [
    "### Dictionary\n"
   ]
  },
  {
   "cell_type": "code",
   "execution_count": 2,
   "id": "4e5bf8a9",
   "metadata": {},
   "outputs": [],
   "source": [
    "from dictionary import load_dictionary\n",
    "\n",
    "words = load_dictionary()"
   ]
  },
  {
   "cell_type": "code",
   "execution_count": 3,
   "id": "d33b0cc0",
   "metadata": {},
   "outputs": [
    {
     "data": {
      "text/plain": [
       "172820"
      ]
     },
     "execution_count": 3,
     "metadata": {},
     "output_type": "execute_result"
    }
   ],
   "source": [
    "len(words)"
   ]
  },
  {
   "cell_type": "code",
   "execution_count": 7,
   "id": "9d605632",
   "metadata": {},
   "outputs": [
    {
     "data": {
      "text/plain": [
       "True"
      ]
     },
     "execution_count": 7,
     "metadata": {},
     "output_type": "execute_result"
    }
   ],
   "source": [
    "\"OPPOSITES\" in words"
   ]
  },
  {
   "cell_type": "markdown",
   "id": "22a5e778",
   "metadata": {},
   "source": [
    "Count the total number of tokens in the dictionary\n"
   ]
  },
  {
   "cell_type": "code",
   "execution_count": null,
   "id": "1072c1c2",
   "metadata": {},
   "outputs": [
    {
     "data": {
      "text/plain": [
       "979309"
      ]
     },
     "metadata": {},
     "output_type": "display_data"
    }
   ],
   "source": [
    "import tiktoken\n",
    "\n",
    "enc = tiktoken.encoding_for_model(\"gpt-4.1\")\n",
    "\n",
    "sum(len(enc.encode(word)) for word in words)"
   ]
  },
  {
   "cell_type": "markdown",
   "id": "73b8e181",
   "metadata": {},
   "source": [
    "Alternative dictionaries\n"
   ]
  },
  {
   "cell_type": "code",
   "execution_count": 22,
   "id": "735ee2a8",
   "metadata": {},
   "outputs": [
    {
     "data": {
      "text/plain": [
       "172820"
      ]
     },
     "execution_count": 22,
     "metadata": {},
     "output_type": "execute_result"
    }
   ],
   "source": [
    "with open(\"enable1_words.txt\", \"r\") as f:\n",
    "    enable1_words = f.readlines()\n",
    "\n",
    "enable1_words = [word.strip().upper() for word in enable1_words]\n",
    "\n",
    "len(enable1_words)"
   ]
  },
  {
   "cell_type": "code",
   "execution_count": 41,
   "id": "e22c3899",
   "metadata": {},
   "outputs": [
    {
     "data": {
      "text/plain": [
       "True"
      ]
     },
     "execution_count": 41,
     "metadata": {},
     "output_type": "execute_result"
    }
   ],
   "source": [
    "\"FLEXIBLE\" in enable1_words"
   ]
  }
 ],
 "metadata": {
  "kernelspec": {
   "display_name": ".venv",
   "language": "python",
   "name": "python3"
  },
  "language_info": {
   "codemirror_mode": {
    "name": "ipython",
    "version": 3
   },
   "file_extension": ".py",
   "mimetype": "text/x-python",
   "name": "python",
   "nbconvert_exporter": "python",
   "pygments_lexer": "ipython3",
   "version": "3.13.1"
  }
 },
 "nbformat": 4,
 "nbformat_minor": 5
}
